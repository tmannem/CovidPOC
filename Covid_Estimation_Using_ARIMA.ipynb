{
  "nbformat": 4,
  "nbformat_minor": 0,
  "metadata": {
    "kernelspec": {
      "display_name": "Python 3",
      "language": "python",
      "name": "python3"
    },
    "language_info": {
      "codemirror_mode": {
        "name": "ipython",
        "version": 3
      },
      "file_extension": ".py",
      "mimetype": "text/x-python",
      "name": "python",
      "nbconvert_exporter": "python",
      "pygments_lexer": "ipython3",
      "version": "3.7.1"
    },
    "colab": {
      "name": "Covid Estimation Using ARIMA.ipynb",
      "provenance": [],
      "collapsed_sections": [],
      "include_colab_link": true
    }
  },
  "cells": [
    {
      "cell_type": "markdown",
      "metadata": {
        "id": "view-in-github",
        "colab_type": "text"
      },
      "source": [
        "<a href=\"https://colab.research.google.com/github/tmannem/CovidPOC/blob/master/Covid_Estimation_Using_ARIMA.ipynb\" target=\"_parent\"><img src=\"https://colab.research.google.com/assets/colab-badge.svg\" alt=\"Open In Colab\"/></a>"
      ]
    },
    {
      "cell_type": "code",
      "metadata": {
        "id": "NA193b0DgzBF",
        "colab_type": "code",
        "colab": {}
      },
      "source": [
        "#What do you understand as Time series data?\n",
        "\n",
        "#1) In time series data -- it is like time = indep variable, dep variable\n",
        "#Y(t) = f(Y(t-n))\n",
        "\n",
        "#2) Time series data should be handled at equal / regular time intervals\n",
        "# Monthly, Yearly, Quarterly, Weekly, Daily, Hrly, Minute, Second --- whatever granular \n",
        "# Regular\n",
        "\n",
        "#3) Time series where dep variable is function of both time and other indep variable\n",
        "#is out of syllabus -- we are not going to discuss"
      ],
      "execution_count": 0,
      "outputs": []
    },
    {
      "cell_type": "code",
      "metadata": {
        "id": "3WQ9430DgzBJ",
        "colab_type": "code",
        "colab": {}
      },
      "source": [
        "############### THERE ARE FEW PROPERTIES OF TIME SERIES\n",
        "## Time series can have --- \n",
        "##1) TREND (optional)--- Uptrend or downtrend\n",
        "##2) Seasonality (Optional) ----- Systematic Up and down spikes at definite time interval (<=1 yr)\n",
        "##3) Cyclicity (Optional) ------- Unsystematic up and down spikes (Recession)\n",
        "## 4) Irregular component ( MANDATORY) --- NOISE \n",
        "\n",
        "### This irregular components are very difficult to account for in prediction\n",
        "### U R BOUND TO HAVE MISTAKES IN FORECASTING\n",
        "### Forecasting accuracy is not going to be good ( be comfortable)"
      ],
      "execution_count": 0,
      "outputs": []
    },
    {
      "cell_type": "code",
      "metadata": {
        "id": "M9c0OU_NgzBO",
        "colab_type": "code",
        "colab": {}
      },
      "source": [
        "### ARIMA ()\n",
        "################## PROPHET \n",
        "################## XGBOOST / RANDOM FOREST\n",
        "################## LSTM"
      ],
      "execution_count": 0,
      "outputs": []
    },
    {
      "cell_type": "code",
      "metadata": {
        "id": "dy2mEKIbgzBR",
        "colab_type": "code",
        "colab": {}
      },
      "source": [
        "########################\n",
        "### Step1) Covert date column to date-datatype \n",
        "### Step2) Plot teh time series\n",
        "### Step3) Pre-processing of time series data -- \n",
        "          # a) Aggregating the data at higher level to reduce fluctuations \n",
        "          # b) Take logarithm of time series\n",
        "########################## ARIMA = AR(p) + Integrated(d) + MA(q) --- our job now is finding values of these parameters\n",
        "### Step4) Check if the given time series is stationary (Const Mean and Const Variance)\n",
        "###         using Augmented Dickey Fuller Test (ADF)\n",
        "### Step5) If the time series is non stationary --- convert that to stationary using a method\n",
        "###         known as differencing\n",
        "### Step6) We will find out values of AR model (p=?) from PACF graph,\n",
        "###           We will find out values of MA model (q=?) from ACF graph\n",
        "#### Step7) Once we find out the value of p,d,q ---- we will use that to do prediction\n",
        "#### Step8) We bring back the data into original scale"
      ],
      "execution_count": 0,
      "outputs": []
    },
    {
      "cell_type": "code",
      "metadata": {
        "id": "yYBRoNsZgzBV",
        "colab_type": "code",
        "outputId": "7bcd20d7-291e-42e1-d989-071735de08c7",
        "colab": {
          "base_uri": "https://localhost:8080/",
          "height": 204
        }
      },
      "source": [
        "import pandas as pd\n",
        "import numpy as np\n",
        "import matplotlib.pyplot as plt\n",
        "%matplotlib inline\n",
        "\n",
        "### EURO EXCHANGE rate vs USD\n",
        "covid_data_df = pd.read_csv('/var/data/full_data.csv')\n",
        "covid_data_df.head()"
      ],
      "execution_count": 0,
      "outputs": [
        {
          "output_type": "execute_result",
          "data": {
            "text/html": [
              "<div>\n",
              "<style scoped>\n",
              "    .dataframe tbody tr th:only-of-type {\n",
              "        vertical-align: middle;\n",
              "    }\n",
              "\n",
              "    .dataframe tbody tr th {\n",
              "        vertical-align: top;\n",
              "    }\n",
              "\n",
              "    .dataframe thead th {\n",
              "        text-align: right;\n",
              "    }\n",
              "</style>\n",
              "<table border=\"1\" class=\"dataframe\">\n",
              "  <thead>\n",
              "    <tr style=\"text-align: right;\">\n",
              "      <th></th>\n",
              "      <th>date</th>\n",
              "      <th>location</th>\n",
              "      <th>new_cases</th>\n",
              "      <th>new_deaths</th>\n",
              "      <th>total_cases</th>\n",
              "      <th>total_deaths</th>\n",
              "    </tr>\n",
              "  </thead>\n",
              "  <tbody>\n",
              "    <tr>\n",
              "      <th>0</th>\n",
              "      <td>2019-12-31</td>\n",
              "      <td>Afghanistan</td>\n",
              "      <td>0</td>\n",
              "      <td>0</td>\n",
              "      <td>0</td>\n",
              "      <td>0</td>\n",
              "    </tr>\n",
              "    <tr>\n",
              "      <th>1</th>\n",
              "      <td>2020-01-01</td>\n",
              "      <td>Afghanistan</td>\n",
              "      <td>0</td>\n",
              "      <td>0</td>\n",
              "      <td>0</td>\n",
              "      <td>0</td>\n",
              "    </tr>\n",
              "    <tr>\n",
              "      <th>2</th>\n",
              "      <td>2020-01-02</td>\n",
              "      <td>Afghanistan</td>\n",
              "      <td>0</td>\n",
              "      <td>0</td>\n",
              "      <td>0</td>\n",
              "      <td>0</td>\n",
              "    </tr>\n",
              "    <tr>\n",
              "      <th>3</th>\n",
              "      <td>2020-01-03</td>\n",
              "      <td>Afghanistan</td>\n",
              "      <td>0</td>\n",
              "      <td>0</td>\n",
              "      <td>0</td>\n",
              "      <td>0</td>\n",
              "    </tr>\n",
              "    <tr>\n",
              "      <th>4</th>\n",
              "      <td>2020-01-04</td>\n",
              "      <td>Afghanistan</td>\n",
              "      <td>0</td>\n",
              "      <td>0</td>\n",
              "      <td>0</td>\n",
              "      <td>0</td>\n",
              "    </tr>\n",
              "  </tbody>\n",
              "</table>\n",
              "</div>"
            ],
            "text/plain": [
              "         date     location  new_cases  new_deaths  total_cases  total_deaths\n",
              "0  2019-12-31  Afghanistan          0           0            0             0\n",
              "1  2020-01-01  Afghanistan          0           0            0             0\n",
              "2  2020-01-02  Afghanistan          0           0            0             0\n",
              "3  2020-01-03  Afghanistan          0           0            0             0\n",
              "4  2020-01-04  Afghanistan          0           0            0             0"
            ]
          },
          "metadata": {
            "tags": []
          },
          "execution_count": 54
        }
      ]
    },
    {
      "cell_type": "code",
      "metadata": {
        "id": "Q9feidTWgzBa",
        "colab_type": "code",
        "colab": {}
      },
      "source": [
        "## Step1\n",
        "covid_data_df['date'] = pd.to_datetime(covid_data_df['date'])\n"
      ],
      "execution_count": 0,
      "outputs": []
    },
    {
      "cell_type": "code",
      "metadata": {
        "id": "f2IX8EnduDhT",
        "colab_type": "code",
        "outputId": "d5789504-30c1-4426-844f-a358b63c7a3b",
        "colab": {
          "base_uri": "https://localhost:8080/",
          "height": 238
        }
      },
      "source": [
        "covid_data_df = covid_data_df[covid_data_df['location']=='World']\n",
        "#df2date = df2.groupby(['date','location'])[['date','total_deaths']]\n",
        "\n",
        "#df2DateGrouped=pd.DataFrame(df2date)\n",
        "#df2.to_csv('groupedData1.csv')\n",
        "#df2['date'] = pd.to_datetime(df2['date'])\n",
        "covid_data_df.info()"
      ],
      "execution_count": 0,
      "outputs": [
        {
          "output_type": "stream",
          "text": [
            "<class 'pandas.core.frame.DataFrame'>\n",
            "Int64Index: 95 entries, 8472 to 8566\n",
            "Data columns (total 6 columns):\n",
            " #   Column        Non-Null Count  Dtype         \n",
            "---  ------        --------------  -----         \n",
            " 0   date          95 non-null     datetime64[ns]\n",
            " 1   location      95 non-null     object        \n",
            " 2   new_cases     95 non-null     int64         \n",
            " 3   new_deaths    95 non-null     int64         \n",
            " 4   total_cases   95 non-null     int64         \n",
            " 5   total_deaths  95 non-null     int64         \n",
            "dtypes: datetime64[ns](1), int64(4), object(1)\n",
            "memory usage: 5.2+ KB\n"
          ],
          "name": "stdout"
        }
      ]
    },
    {
      "cell_type": "code",
      "metadata": {
        "id": "2I6DByxOgzBd",
        "colab_type": "code",
        "outputId": "f0d7bbfc-c54a-443c-c0df-9a7ae9dc0686",
        "colab": {
          "base_uri": "https://localhost:8080/",
          "height": 284
        }
      },
      "source": [
        "## Step2 - plot\n",
        "covid_data_df= covid_data_df[covid_data_df['new_cases'] != 0]\n",
        "covid_data_df = covid_data_df.set_index(['date'])\n",
        "ts = covid_data_df['new_cases']\n",
        "plt.plot(ts)"
      ],
      "execution_count": 0,
      "outputs": [
        {
          "output_type": "execute_result",
          "data": {
            "text/plain": [
              "[<matplotlib.lines.Line2D at 0x7f6b7d447668>]"
            ]
          },
          "metadata": {
            "tags": []
          },
          "execution_count": 57
        },
        {
          "output_type": "display_data",
          "data": {
            "image/png": "[encoded data removed]",
            "text/plain": [
              "<Figure size 432x288 with 1 Axes>"
            ]
          },
          "metadata": {
            "tags": []
          }
        }
      ]
    },
    {
      "cell_type": "code",
      "metadata": {
        "id": "WdqIqxmlgzBh",
        "colab_type": "code",
        "outputId": "23e33865-e0f4-49c2-a0f4-16092b31acfb",
        "colab": {
          "base_uri": "https://localhost:8080/",
          "height": 282
        }
      },
      "source": [
        "#Pre-processing of time series data -- \n",
        "# a) Aggregating the data at higher level to reduce fluctuations \n",
        "\n",
        "# As you go granular in time series ---- ur prediction accuracy will go down\n",
        "# as you keep on aggregating --- your accuracy will go up\n",
        "ts_weekly = ts.resample('W').mean()\n",
        "plt.plot(ts_weekly)"
      ],
      "execution_count": 0,
      "outputs": [
        {
          "output_type": "execute_result",
          "data": {
            "text/plain": [
              "[<matplotlib.lines.Line2D at 0x7f6b8c3bdb38>]"
            ]
          },
          "metadata": {
            "tags": []
          },
          "execution_count": 17
        },
        {
          "output_type": "display_data",
          "data": {
            "image/png": "[encoded data removed]",
            "text/plain": [
              "<Figure size 432x288 with 1 Axes>"
            ]
          },
          "metadata": {
            "tags": []
          }
        }
      ]
    },
    {
      "cell_type": "code",
      "metadata": {
        "id": "K0yq21OngzBk",
        "colab_type": "code",
        "outputId": "1b704242-7573-4c56-ecec-2e2977b07e73",
        "colab": {
          "base_uri": "https://localhost:8080/",
          "height": 282
        }
      },
      "source": [
        "### BOX JENKINS =====> YOU CAN READ SEPARATELY\n",
        "# b) Take logarithm of time series\n",
        "#ts.loc[(ts!=0).any(1)]\n",
        "ts_log = np.log(ts)\n",
        "plt.plot(ts_log)"
      ],
      "execution_count": 0,
      "outputs": [
        {
          "output_type": "execute_result",
          "data": {
            "text/plain": [
              "[<matplotlib.lines.Line2D at 0x7f6b7d396908>]"
            ]
          },
          "metadata": {
            "tags": []
          },
          "execution_count": 58
        },
        {
          "output_type": "display_data",
          "data": {
            "image/png": "[encoded data removed]",
            "text/plain": [
              "<Figure size 432x288 with 1 Axes>"
            ]
          },
          "metadata": {
            "tags": []
          }
        }
      ]
    },
    {
      "cell_type": "code",
      "metadata": {
        "id": "IuuRdk-3gzBn",
        "colab_type": "code",
        "colab": {}
      },
      "source": [
        "### ARIMA MODEL REQUIRES THE DATA TO BE STATIONARY\n",
        "### Any given time series is likely to be non-stationary\n",
        "\n",
        "### WHATEVER THE TIME SERIES --- IF WE DO a K-th order shifting (differencing - differentiation) of the time series\n",
        "### We are eventually going to get a stationary time series"
      ],
      "execution_count": 0,
      "outputs": []
    },
    {
      "cell_type": "code",
      "metadata": {
        "id": "J4-xDJxBgzBp",
        "colab_type": "code",
        "colab": {}
      },
      "source": [
        "### AUGMENTED DICKEY FULLER TEST is a hypothesis testing done on the time series\n",
        "## to check if the mean is const or not\n",
        "\n",
        "#The null hypothesis of the Augmented Dickey-Fuller is that there is a unit\n",
        "#root, with the alternative that there is no unit root.\n",
        "\n",
        "## Null hypothesis = Time series is non stationary\n",
        "## Alternate hypothesis = Time series stationary"
      ],
      "execution_count": 0,
      "outputs": []
    },
    {
      "cell_type": "code",
      "metadata": {
        "id": "PA3Dxe_XgzBt",
        "colab_type": "code",
        "outputId": "f52a8890-7b58-47a5-e58d-b45b73033324",
        "colab": {
          "base_uri": "https://localhost:8080/",
          "height": 34
        }
      },
      "source": [
        "from statsmodels.tsa.stattools import adfuller\n",
        "adf_result = adfuller(ts_log)\n",
        "print(\"p-value of test : \" + str(adf_result[1]))\n",
        "#adf_result"
      ],
      "execution_count": 0,
      "outputs": [
        {
          "output_type": "stream",
          "text": [
            "p-value of test : 0.5375240696796012\n"
          ],
          "name": "stdout"
        }
      ]
    },
    {
      "cell_type": "code",
      "metadata": {
        "id": "86TkneT_gzBv",
        "colab_type": "code",
        "outputId": "f82f0e9c-894d-4b06-b21c-cf2e5962e531",
        "colab": {
          "base_uri": "https://localhost:8080/",
          "height": 282
        }
      },
      "source": [
        "### DIFFERENCING OF THE TIME SERIES\n",
        "ts_log_diff = ts_log - ts_log.shift()\n",
        "plt.plot(ts_log_diff)"
      ],
      "execution_count": 0,
      "outputs": [
        {
          "output_type": "execute_result",
          "data": {
            "text/plain": [
              "[<matplotlib.lines.Line2D at 0x7f6b7d382ba8>]"
            ]
          },
          "metadata": {
            "tags": []
          },
          "execution_count": 60
        },
        {
          "output_type": "display_data",
          "data": {
            "image/png": "[encoded data removed]",
            "text/plain": [
              "<Figure size 432x288 with 1 Axes>"
            ]
          },
          "metadata": {
            "tags": []
          }
        }
      ]
    },
    {
      "cell_type": "code",
      "metadata": {
        "id": "E4JOVBaZgzBz",
        "colab_type": "code",
        "outputId": "2f5ed54b-aa15-4cdd-c29f-5edd5a131149",
        "colab": {
          "base_uri": "https://localhost:8080/",
          "height": 136
        }
      },
      "source": [
        "ts_log_diff.dropna(inplace=True)\n",
        "ts_log_diff.head()"
      ],
      "execution_count": 0,
      "outputs": [
        {
          "output_type": "execute_result",
          "data": {
            "text/plain": [
              "date\n",
              "2020-01-03   -0.462624\n",
              "2020-01-05   -0.125163\n",
              "2020-01-13   -2.708050\n",
              "2020-01-15    0.000000\n",
              "2020-01-17    1.609438\n",
              "Name: new_cases, dtype: float64"
            ]
          },
          "metadata": {
            "tags": []
          },
          "execution_count": 61
        }
      ]
    },
    {
      "cell_type": "code",
      "metadata": {
        "id": "oFaegPATgzB1",
        "colab_type": "code",
        "outputId": "5f6325bf-e288-4f64-ab6b-fdd701c9e920",
        "colab": {
          "base_uri": "https://localhost:8080/",
          "height": 34
        }
      },
      "source": [
        "adf_result = adfuller(ts_log_diff)\n",
        "print(\"p-value of test : \" + str(adf_result[1]))\n",
        "#adf_result"
      ],
      "execution_count": 0,
      "outputs": [
        {
          "output_type": "stream",
          "text": [
            "p-value of test : 2.6848666022158674e-19\n"
          ],
          "name": "stdout"
        }
      ]
    },
    {
      "cell_type": "code",
      "metadata": {
        "id": "4XQggvx1gzB-",
        "colab_type": "code",
        "colab": {}
      },
      "source": [
        "########### ACF ( Auto correlation Function)\n",
        "\n",
        "########### PACF ( Partial Auto Correlation Function)"
      ],
      "execution_count": 0,
      "outputs": []
    },
    {
      "cell_type": "code",
      "metadata": {
        "id": "d3y6J6ZPgzCF",
        "colab_type": "code",
        "outputId": "3f706552-079c-48d0-d846-3f88b168ceb5",
        "colab": {
          "base_uri": "https://localhost:8080/",
          "height": 281
        }
      },
      "source": [
        "from statsmodels.tsa.stattools import acf,pacf\n",
        "from statsmodels.graphics.tsaplots import plot_acf,plot_pacf\n",
        "\n",
        "fig,ax = plt.subplots(1,2,figsize = (10,4))\n",
        "\n",
        "plot_acf(ts_log_diff.values,lags=10,ax = ax[0])\n",
        "plot_pacf(ts_log_diff.values,lags=10,ax=ax[1])\n",
        "plt.show()"
      ],
      "execution_count": 0,
      "outputs": [
        {
          "output_type": "display_data",
          "data": {
            "image/png": "[encoded data removed]",
            "text/plain": [
              "<Figure size 720x288 with 2 Axes>"
            ]
          },
          "metadata": {
            "tags": []
          }
        }
      ]
    },
    {
      "cell_type": "code",
      "metadata": {
        "id": "9kEe8e1JgzCL",
        "colab_type": "code",
        "colab": {}
      },
      "source": [
        "# RULE TO FIND OUT THE VALUES Of AR(p) and MA(q)\n",
        "# p = Where PACF graph intersects the X axis = 2\n",
        "# q = Where ACF graph intersects the blue region = 2\n",
        "# d = 1"
      ],
      "execution_count": 0,
      "outputs": []
    },
    {
      "cell_type": "code",
      "metadata": {
        "id": "U2AvY6MngzCP",
        "colab_type": "code",
        "outputId": "8136a05f-6234-4229-d469-4c4bc1682c19",
        "colab": {
          "base_uri": "https://localhost:8080/",
          "height": 527
        }
      },
      "source": [
        "from statsmodels.tsa.arima_model import ARIMA\n",
        "model_arima = ARIMA(ts_log,order=(2,1,2)) # p=2, I = 1, q = 2\n",
        "results_arima = model_arima.fit()\n",
        "print(results_arima.summary())"
      ],
      "execution_count": 0,
      "outputs": [
        {
          "output_type": "stream",
          "text": [
            "/usr/local/lib/python3.6/dist-packages/statsmodels/tsa/base/tsa_model.py:219: ValueWarning: A date index has been provided, but it has no associated frequency information and so will be ignored when e.g. forecasting.\n",
            "  ' ignored when e.g. forecasting.', ValueWarning)\n",
            "/usr/local/lib/python3.6/dist-packages/statsmodels/tsa/base/tsa_model.py:219: ValueWarning: A date index has been provided, but it has no associated frequency information and so will be ignored when e.g. forecasting.\n",
            "  ' ignored when e.g. forecasting.', ValueWarning)\n"
          ],
          "name": "stderr"
        },
        {
          "output_type": "stream",
          "text": [
            "                             ARIMA Model Results                              \n",
            "==============================================================================\n",
            "Dep. Variable:            D.new_cases   No. Observations:                   82\n",
            "Model:                 ARIMA(2, 1, 2)   Log Likelihood                 -81.119\n",
            "Method:                       css-mle   S.D. of innovations              0.651\n",
            "Date:                Sun, 05 Apr 2020   AIC                            174.238\n",
            "Time:                        00:40:26   BIC                            188.679\n",
            "Sample:                             1   HQIC                           180.036\n",
            "                                                                              \n",
            "=====================================================================================\n",
            "                        coef    std err          z      P>|z|      [0.025      0.975]\n",
            "-------------------------------------------------------------------------------------\n",
            "const                 0.1010      0.053      1.893      0.062      -0.004       0.205\n",
            "ar.L1.D.new_cases     0.2082      0.927      0.225      0.823      -1.609       2.025\n",
            "ar.L2.D.new_cases     0.2159      0.365      0.592      0.556      -0.499       0.931\n",
            "ma.L1.D.new_cases    -0.4048      0.916     -0.442      0.660      -2.200       1.391\n",
            "ma.L2.D.new_cases    -0.1730      0.396     -0.437      0.663      -0.949       0.603\n",
            "                                    Roots                                    \n",
            "=============================================================================\n",
            "                  Real          Imaginary           Modulus         Frequency\n",
            "-----------------------------------------------------------------------------\n",
            "AR.1            1.7232           +0.0000j            1.7232            0.0000\n",
            "AR.2           -2.6877           +0.0000j            2.6877            0.5000\n",
            "MA.1            1.5038           +0.0000j            1.5038            0.0000\n",
            "MA.2           -3.8441           +0.0000j            3.8441            0.5000\n",
            "-----------------------------------------------------------------------------\n"
          ],
          "name": "stdout"
        }
      ]
    },
    {
      "cell_type": "code",
      "metadata": {
        "id": "ZEXdppmOgzCW",
        "colab_type": "code",
        "outputId": "7035041a-3a7c-4ea5-e214-a016d0a31b16",
        "colab": {
          "base_uri": "https://localhost:8080/",
          "height": 282
        }
      },
      "source": [
        "plt.plot(ts_log_diff)\n",
        "plt.plot(results_arima.fittedvalues,color = 'red')"
      ],
      "execution_count": 0,
      "outputs": [
        {
          "output_type": "execute_result",
          "data": {
            "text/plain": [
              "[<matplotlib.lines.Line2D at 0x7f6b7d199eb8>]"
            ]
          },
          "metadata": {
            "tags": []
          },
          "execution_count": 65
        },
        {
          "output_type": "display_data",
          "data": {
            "image/png": "[encoded data removed]",
            "text/plain": [
              "<Figure size 432x288 with 1 Axes>"
            ]
          },
          "metadata": {
            "tags": []
          }
        }
      ]
    },
    {
      "cell_type": "code",
      "metadata": {
        "id": "cq4-kjuDgzCX",
        "colab_type": "code",
        "colab": {}
      },
      "source": [
        ""
      ],
      "execution_count": 0,
      "outputs": []
    },
    {
      "cell_type": "code",
      "metadata": {
        "id": "-hV08yfcgzCZ",
        "colab_type": "code",
        "outputId": "a61ec6cb-b77c-4afb-8326-6e004f8c415a",
        "colab": {
          "base_uri": "https://localhost:8080/",
          "height": 282
        }
      },
      "source": [
        "########## Series with the ARIMA predicted values ( Are in difference scale)\n",
        "ts_predictions = pd.Series(results_arima.fittedvalues)\n",
        "\n",
        "######### Cum-sum of the predictions\n",
        "ts_predictions_cumsum = ts_predictions.cumsum()\n",
        "\n",
        "######### Pandas series with all values as the first value\n",
        "ts_predictions_in_log_scale = pd.Series(ts_log.iloc[0],index=ts_log.index)\n",
        "\n",
        "######### Adding the cumsum with the dummy column\n",
        "ts_predictions_in_log_scale = ts_predictions_in_log_scale.add(ts_predictions_cumsum,fill_value=0)\n",
        "\n",
        "######## Exponential of the log values\n",
        "ts_predictions_in_orig_scale = np.exp(ts_predictions_in_log_scale)\n",
        "\n",
        "####### Weekly original values\n",
        "plt.plot(ts)\n",
        "\n",
        "####### weekly values predictions\n",
        "plt.plot(ts_predictions_in_orig_scale)"
      ],
      "execution_count": 0,
      "outputs": [
        {
          "output_type": "execute_result",
          "data": {
            "text/plain": [
              "[<matplotlib.lines.Line2D at 0x7f6b80048128>]"
            ]
          },
          "metadata": {
            "tags": []
          },
          "execution_count": 75
        },
        {
          "output_type": "display_data",
          "data": {
            "image/png": "[encoded data removed]",
            "text/plain": [
              "<Figure size 432x288 with 1 Axes>"
            ]
          },
          "metadata": {
            "tags": []
          }
        }
      ]
    },
    {
      "cell_type": "code",
      "metadata": {
        "id": "RrEAZIXAgzCb",
        "colab_type": "code",
        "outputId": "a56d1e6b-f8b2-4ba4-b310-3b4eb6f00a33",
        "colab": {
          "base_uri": "https://localhost:8080/",
          "height": 34
        }
      },
      "source": [
        "ts_log.shape"
      ],
      "execution_count": 0,
      "outputs": [
        {
          "output_type": "execute_result",
          "data": {
            "text/plain": [
              "(83,)"
            ]
          },
          "metadata": {
            "tags": []
          },
          "execution_count": 76
        }
      ]
    },
    {
      "cell_type": "code",
      "metadata": {
        "id": "k8kTGzHGgzCd",
        "colab_type": "code",
        "outputId": "456a1c0e-b52a-49c2-ce6a-e78383f0d314",
        "colab": {
          "base_uri": "https://localhost:8080/",
          "height": 102
        }
      },
      "source": [
        "results_arima.forecast(steps = 24)[0]"
      ],
      "execution_count": 0,
      "outputs": [
        {
          "output_type": "execute_result",
          "data": {
            "text/plain": [
              "array([11.3209755 , 11.42527645, 11.53517537, 11.63871456, 11.74213809,\n",
              "       11.84416439, 11.94587475, 12.04721763, 12.14841578, 12.24950444,\n",
              "       12.35053906, 12.45153878, 12.55251957, 12.65348887, 12.7544517 ,\n",
              "       12.8554107 , 12.95636751, 13.05732303, 13.15827781, 13.25923216,\n",
              "       13.36018626, 13.46114021, 13.56209408, 13.6630479 ])"
            ]
          },
          "metadata": {
            "tags": []
          },
          "execution_count": 77
        }
      ]
    },
    {
      "cell_type": "code",
      "metadata": {
        "id": "b3evj8_EgzCf",
        "colab_type": "code",
        "outputId": "622d5ab0-c0b0-4b4a-cdea-0e07673620b5",
        "colab": {
          "base_uri": "https://localhost:8080/",
          "height": 221
        }
      },
      "source": [
        "################# TRAIN - TEST CREATION\n",
        "#What code to write to divide data into train & test\n",
        "#train_test_split() ----- randomly between train & test --- sequence is of extreme importance\n",
        "\n",
        "#### BACKTESTING \n",
        "\n",
        "train_data_size = ts_log.shape[0] - 10\n",
        "train,test = ts_log[0:train_data_size], ts_log[train_data_size:ts_log.shape[0]]\n",
        "\n",
        "#developing model on train data\n",
        "#and \n",
        "#test on test data --- is that gonna work here? if not what is way out?\n",
        "#If I have to predict for a time instance t --- I need actual values of t-1, t-2 etc\n",
        "#AR => Y(t+1) = m1.Y(t) + m2. Y(t-1) [ Actual value sof Y at time t and t-1 ....]\n",
        "#MA => Y(t+1) = z1.E(t) + z2.E(t-1)\n",
        "\n",
        "######### IN ARIMA, TYPICALLY WE DO A ROLLING PREDICTION\n",
        "\n",
        "historical_data = [x for x in train]\n",
        "predictions = list()\n",
        "\n",
        "print(\"Printed and Actual Comparison\\n\")\n",
        "for  t in range(len(test)):\n",
        "    model_arima2 = ARIMA(historical_data,order = (2,1,2))\n",
        "    model_fit = model_arima2.fit()\n",
        "    forecasted_data = model_fit.forecast(steps=1) # Forecast function will transform teh data into original scale\n",
        "    # Forecast for current\n",
        "    predictions.append(forecasted_data[0][0])    \n",
        "    # Adding actual back to train\n",
        "    historical_data.append(test[t])\n",
        "    print(\"Prediction = \" + str(round(np.exp(forecasted_data[0][0]),3)) + \" And \" + \" Original= \" + str(round(np.exp(test[t]),3)))\n",
        "    \n",
        "\n",
        "################ PREDICTION ACCURACY --- RMSE , MAPE"
      ],
      "execution_count": 0,
      "outputs": [
        {
          "output_type": "stream",
          "text": [
            "Printed and Actual Comparison\n",
            "\n",
            "Prediction = 43374.733 And  Original= 38927.0\n",
            "Prediction = 44249.608 And  Original= 51204.0\n",
            "Prediction = 55120.304 And  Original= 59718.0\n",
            "Prediction = 65740.093 And  Original= 63937.0\n",
            "Prediction = 71103.252 And  Original= 65162.0\n",
            "Prediction = 73406.768 And  Original= 58487.0\n",
            "Prediction = 67719.268 And  Original= 62443.0\n",
            "Prediction = 70439.526 And  Original= 73512.0\n",
            "Prediction = 81615.916 And  Original= 77128.0\n",
            "Prediction = 86929.249 And  Original= 71813.0\n"
          ],
          "name": "stdout"
        }
      ]
    },
    {
      "cell_type": "code",
      "metadata": {
        "id": "cqK6Qf52gzCg",
        "colab_type": "code",
        "outputId": "3f92b34d-e762-483e-a222-04f7632a0995",
        "colab": {
          "base_uri": "https://localhost:8080/",
          "height": 34
        }
      },
      "source": [
        "### ERRRO - RMSE\n",
        "from sklearn.metrics import mean_squared_error\n",
        "np.sqrt(mean_squared_error(test,predictions))"
      ],
      "execution_count": 0,
      "outputs": [
        {
          "output_type": "execute_result",
          "data": {
            "text/plain": [
              "0.12146471149194804"
            ]
          },
          "metadata": {
            "tags": []
          },
          "execution_count": 80
        }
      ]
    },
    {
      "cell_type": "code",
      "metadata": {
        "id": "k-aIEb3lgzCi",
        "colab_type": "code",
        "outputId": "40a324c0-7647-4eff-808e-0143844710cd",
        "colab": {
          "base_uri": "https://localhost:8080/",
          "height": 34
        }
      },
      "source": [
        "mape = np.mean(abs((test - predictions)/test))\n",
        "mape"
      ],
      "execution_count": 0,
      "outputs": [
        {
          "output_type": "execute_result",
          "data": {
            "text/plain": [
              "0.009533352054094434"
            ]
          },
          "metadata": {
            "tags": []
          },
          "execution_count": 81
        }
      ]
    },
    {
      "cell_type": "code",
      "metadata": {
        "id": "cojcD_lggzCk",
        "colab_type": "code",
        "outputId": "d63a1db0-c97c-4ea9-b68a-4c56a2aff308",
        "colab": {
          "base_uri": "https://localhost:8080/",
          "height": 34
        }
      },
      "source": [
        "accuracy = 1 - mape\n",
        "accuracy"
      ],
      "execution_count": 0,
      "outputs": [
        {
          "output_type": "execute_result",
          "data": {
            "text/plain": [
              "0.9904666479459056"
            ]
          },
          "metadata": {
            "tags": []
          },
          "execution_count": 82
        }
      ]
    }
  ]
}